{
 "cells": [
  {
   "cell_type": "code",
   "execution_count": 7,
   "metadata": {},
   "outputs": [],
   "source": [
    "from selenium import webdriver\n",
    "from selenium.webdriver.common.keys import Keys\n",
    "from selenium.webdriver.support.ui import WebDriverWait\n",
    "from selenium.webdriver.support import expected_conditions as EC\n",
    "from selenium.webdriver.common.by import By\n",
    "\n",
    "import requests\n",
    "from bs4 import BeautifulSoup\n",
    "import time\n",
    "import json"
   ]
  },
  {
   "cell_type": "markdown",
   "metadata": {},
   "source": [
    "# github login"
   ]
  },
  {
   "cell_type": "code",
   "execution_count": 10,
   "metadata": {},
   "outputs": [],
   "source": [
    "chrome_driver = '/Users/minseok/machine_learning/theory/Texturemining/chromedriver'\n",
    "driver = webdriver.Chrome(chrome_driver)\n",
    "driver.implicitly_wait(3)\n",
    "driver.get('https://github.com/login')\n",
    "\n",
    "driver.find_element_by_name('login').send_keys('alstjrchl97@naver.com')\n",
    "driver.find_element_by_name('password').send_keys('0519gemi**')\n",
    "driver.find_element_by_xpath('//*[@id=\"login\"]/form/div[4]/input[12]').send_keys(Keys.ENTER)"
   ]
  },
  {
   "cell_type": "markdown",
   "metadata": {},
   "source": [
    "# Search Repository"
   ]
  },
  {
   "cell_type": "code",
   "execution_count": 11,
   "metadata": {},
   "outputs": [
    {
     "name": "stdout",
     "output_type": "stream",
     "text": [
      "<a class=\"v-align-middle\" data-hydro-click='{\"event_type\":\"search_result.click\",\"payload\":{\"page_number\":1,\"per_page\":10,\"query\":\"all\",\"result_position\":1,\"click_id\":131789494,\"result\":{\"id\":131789494,\"global_relay_id\":\"MDEwOlJlcG9zaXRvcnkxMzE3ODk0OTQ=\",\"model_name\":\"Repository\",\"url\":\"https://github.com/wuyouzhuguli/SpringAll\"},\"originating_url\":\"https://github.com/search?q=all&amp;type=\",\"user_id\":60251579}}' data-hydro-click-hmac=\"af74660a9b6632024fef05fc0e6c9397698069875ba14d1531e509240fb9ed40\" href=\"/wuyouzhuguli/SpringAll\">wuyouzhuguli/Spring<em>All</em></a>\n",
      "<a class=\"v-align-middle\" data-hydro-click='{\"event_type\":\"search_result.click\",\"payload\":{\"page_number\":1,\"per_page\":10,\"query\":\"all\",\"result_position\":2,\"click_id\":91356408,\"result\":{\"id\":91356408,\"global_relay_id\":\"MDEwOlJlcG9zaXRvcnk5MTM1NjQwOA==\",\"model_name\":\"Repository\",\"url\":\"https://github.com/allenai/allennlp\"},\"originating_url\":\"https://github.com/search?q=all&amp;type=\",\"user_id\":60251579}}' data-hydro-click-hmac=\"61779a4e22496ca471316866e3a06b0194ef6889644de106f24b4d448ee53148\" href=\"/allenai/allennlp\">allenai/<em>allennlp</em></a>\n",
      "<a class=\"v-align-middle\" data-hydro-click='{\"event_type\":\"search_result.click\",\"payload\":{\"page_number\":1,\"per_page\":10,\"query\":\"all\",\"result_position\":3,\"click_id\":7276954,\"result\":{\"id\":7276954,\"global_relay_id\":\"MDEwOlJlcG9zaXRvcnk3Mjc2OTU0\",\"model_name\":\"Repository\",\"url\":\"https://github.com/Alluxio/alluxio\"},\"originating_url\":\"https://github.com/search?q=all&amp;type=\",\"user_id\":60251579}}' data-hydro-click-hmac=\"404a56241eee1217635dbe3af2bd7747346e3f612594209df35e354748723fbd\" href=\"/Alluxio/alluxio\">Alluxio/<em>alluxio</em></a>\n",
      "<a class=\"v-align-middle\" data-hydro-click='{\"event_type\":\"search_result.click\",\"payload\":{\"page_number\":1,\"per_page\":10,\"query\":\"all\",\"result_position\":4,\"click_id\":71220757,\"result\":{\"id\":71220757,\"global_relay_id\":\"MDEwOlJlcG9zaXRvcnk3MTIyMDc1Nw==\",\"model_name\":\"Repository\",\"url\":\"https://github.com/swisskyrepo/PayloadsAllTheThings\"},\"originating_url\":\"https://github.com/search?q=all&amp;type=\",\"user_id\":60251579}}' data-hydro-click-hmac=\"fb892f39c3abf68f3a19dd751d8eabf35ac286a03b5191a79f3e3d8ec692ebeb\" href=\"/swisskyrepo/PayloadsAllTheThings\">swisskyrepo/Payloads<em>All</em>TheThings</a>\n",
      "<a class=\"v-align-middle\" data-hydro-click='{\"event_type\":\"search_result.click\",\"payload\":{\"page_number\":1,\"per_page\":10,\"query\":\"all\",\"result_position\":5,\"click_id\":6639684,\"result\":{\"id\":6639684,\"global_relay_id\":\"MDEwOlJlcG9zaXRvcnk2NjM5Njg0\",\"model_name\":\"Repository\",\"url\":\"https://github.com/AlloyTeam/AlloyImage\"},\"originating_url\":\"https://github.com/search?q=all&amp;type=\",\"user_id\":60251579}}' data-hydro-click-hmac=\"f0bd70048eb69e318f5022cee75b69491266de28573a76a7b6bc387abadcec23\" href=\"/AlloyTeam/AlloyImage\">AlloyTeam/<em>AlloyImage</em></a>\n",
      "<a class=\"v-align-middle\" data-hydro-click='{\"event_type\":\"search_result.click\",\"payload\":{\"page_number\":1,\"per_page\":10,\"query\":\"all\",\"result_position\":6,\"click_id\":59704101,\"result\":{\"id\":59704101,\"global_relay_id\":\"MDEwOlJlcG9zaXRvcnk1OTcwNDEwMQ==\",\"model_name\":\"Repository\",\"url\":\"https://github.com/AlloyTeam/AlloyFinger\"},\"originating_url\":\"https://github.com/search?q=all&amp;type=\",\"user_id\":60251579}}' data-hydro-click-hmac=\"a22f682abfa7d798b02aeef6cfb42984fdbed2520a225acd4c42e65ad0101811\" href=\"/AlloyTeam/AlloyFinger\">AlloyTeam/<em>AlloyFinger</em></a>\n",
      "<a class=\"v-align-middle\" data-hydro-click='{\"event_type\":\"search_result.click\",\"payload\":{\"page_number\":1,\"per_page\":10,\"query\":\"all\",\"result_position\":7,\"click_id\":976994,\"result\":{\"id\":976994,\"global_relay_id\":\"MDEwOlJlcG9zaXRvcnk5NzY5OTQ=\",\"model_name\":\"Repository\",\"url\":\"https://github.com/pennersr/django-allauth\"},\"originating_url\":\"https://github.com/search?q=all&amp;type=\",\"user_id\":60251579}}' data-hydro-click-hmac=\"506bdf341bceb5f983420ca46125f9ca6b7583c12347b05d85826eb998808338\" href=\"/pennersr/django-allauth\">pennersr/django-<em>allauth</em></a>\n",
      "<a class=\"v-align-middle\" data-hydro-click='{\"event_type\":\"search_result.click\",\"payload\":{\"page_number\":1,\"per_page\":10,\"query\":\"all\",\"result_position\":8,\"click_id\":39270253,\"result\":{\"id\":39270253,\"global_relay_id\":\"MDEwOlJlcG9zaXRvcnkzOTI3MDI1Mw==\",\"model_name\":\"Repository\",\"url\":\"https://github.com/HTBox/allReady\"},\"originating_url\":\"https://github.com/search?q=all&amp;type=\",\"user_id\":60251579}}' data-hydro-click-hmac=\"d80ba167323bb8d694723c643b311edc9d19fec3ebbbb4115ef104167892f56b\" href=\"/HTBox/allReady\">HTBox/<em>all</em>Ready</a>\n",
      "<a class=\"v-align-middle\" data-hydro-click='{\"event_type\":\"search_result.click\",\"payload\":{\"page_number\":1,\"per_page\":10,\"query\":\"all\",\"result_position\":9,\"click_id\":59838788,\"result\":{\"id\":59838788,\"global_relay_id\":\"MDEwOlJlcG9zaXRvcnk1OTgzODc4OA==\",\"model_name\":\"Repository\",\"url\":\"https://github.com/allure-framework/allure2\"},\"originating_url\":\"https://github.com/search?q=all&amp;type=\",\"user_id\":60251579}}' data-hydro-click-hmac=\"ae781989da327c9c84612ec66cbf17e8e3abca225a8cf0b01fab4c388b2b0403\" href=\"/allure-framework/allure2\">allure-framework/<em>allure2</em></a>\n",
      "<a class=\"v-align-middle\" data-hydro-click='{\"event_type\":\"search_result.click\",\"payload\":{\"page_number\":1,\"per_page\":10,\"query\":\"all\",\"result_position\":10,\"click_id\":52710065,\"result\":{\"id\":52710065,\"global_relay_id\":\"MDEwOlJlcG9zaXRvcnk1MjcxMDA2NQ==\",\"model_name\":\"Repository\",\"url\":\"https://github.com/all-contributors/all-contributors\"},\"originating_url\":\"https://github.com/search?q=all&amp;type=\",\"user_id\":60251579}}' data-hydro-click-hmac=\"d878c91f52d0e8636f61028b3376ebbb292ca5fd5b0021bedeb987bb8d37c135\" href=\"/all-contributors/all-contributors\">all-contributors/<em>all</em>-contributors</a>\n"
     ]
    }
   ],
   "source": [
    "# 깃허브 메인들어가기\n",
    "driver.get('https://github.com/')\n",
    "driver.find_element_by_name('q').send_keys('all')\n",
    "driver.find_element_by_name('q').send_keys(Keys.ENTER)\n",
    "\n",
    "html = driver.page_source\n",
    "soup = BeautifulSoup(html, 'html.parser')\n",
    "a_list = soup.select('div.f4.text-normal > a')\n",
    "\n",
    "for a in a_list:\n",
    "    print(a)\n"
   ]
  }
 ],
 "metadata": {
  "kernelspec": {
   "display_name": "Python 3",
   "language": "python",
   "name": "python3"
  },
  "language_info": {
   "codemirror_mode": {
    "name": "ipython",
    "version": 3
   },
   "file_extension": ".py",
   "mimetype": "text/x-python",
   "name": "python",
   "nbconvert_exporter": "python",
   "pygments_lexer": "ipython3",
   "version": "3.6.6"
  }
 },
 "nbformat": 4,
 "nbformat_minor": 4
}
