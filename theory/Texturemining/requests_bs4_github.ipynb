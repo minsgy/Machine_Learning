{
 "cells": [
  {
   "cell_type": "code",
   "execution_count": 2,
   "metadata": {},
   "outputs": [],
   "source": [
    "import requests\n",
    "from bs4 import BeautifulSoup"
   ]
  },
  {
   "cell_type": "markdown",
   "metadata": {},
   "source": [
    "# end point"
   ]
  },
  {
   "cell_type": "code",
   "execution_count": 3,
   "metadata": {},
   "outputs": [
    {
     "name": "stdout",
     "output_type": "stream",
     "text": [
      "<Response [200]>\n"
     ]
    }
   ],
   "source": [
    "url = \"https://github.com/session\"\n",
    "\n",
    "resp = requests.get(url)\n",
    "print(resp)"
   ]
  },
  {
   "cell_type": "code",
   "execution_count": 4,
   "metadata": {},
   "outputs": [],
   "source": [
    "data = {\n",
    "    'login': 'alstjrchl97@naver.com',\n",
    "    'password': '0519gemi**'\n",
    "}"
   ]
  },
  {
   "cell_type": "code",
   "execution_count": 5,
   "metadata": {},
   "outputs": [
    {
     "name": "stdout",
     "output_type": "stream",
     "text": [
      "<Response [200]>\n"
     ]
    }
   ],
   "source": [
    "s = requests.Session()\n",
    "\n",
    "\n",
    "resp = s.get(url, data=data)\n",
    "print(resp)"
   ]
  },
  {
   "cell_type": "code",
   "execution_count": 6,
   "metadata": {},
   "outputs": [
    {
     "data": {
      "text/plain": [
       "<div class=\"f4 text-normal\">\n",
       "<a class=\"v-align-middle\" data-hydro-click='{\"event_type\":\"search_result.click\",\"payload\":{\"page_number\":1,\"per_page\":10,\"query\":\"python\",\"result_position\":1,\"click_id\":63476337,\"result\":{\"id\":63476337,\"global_relay_id\":\"MDEwOlJlcG9zaXRvcnk2MzQ3NjMzNw==\",\"model_name\":\"Repository\",\"url\":\"https://github.com/TheAlgorithms/Python\"},\"originating_url\":\"https://github.com/search?q=python\",\"user_id\":null}}' data-hydro-click-hmac=\"8329a78703751e0c925c973cbb96a84b9f4d12177c2ea545c32496f47ab1e512\" href=\"/TheAlgorithms/Python\">TheAlgorithms/<em>Python</em></a>\n",
       "</div>"
      ]
     },
     "execution_count": 6,
     "metadata": {},
     "output_type": "execute_result"
    }
   ],
   "source": [
    "search = 'https://github.com/search?q=python'\n",
    "resp = s.get(search)\n",
    "soup = BeautifulSoup(resp.text)\n",
    "\n",
    "soup.select_one('div.mt-n1>div.f4.text-normal')\n"
   ]
  },
  {
   "cell_type": "code",
   "execution_count": null,
   "metadata": {},
   "outputs": [],
   "source": []
  }
 ],
 "metadata": {
  "kernelspec": {
   "display_name": "Python 3",
   "language": "python",
   "name": "python3"
  },
  "language_info": {
   "codemirror_mode": {
    "name": "ipython",
    "version": 3
   },
   "file_extension": ".py",
   "mimetype": "text/x-python",
   "name": "python",
   "nbconvert_exporter": "python",
   "pygments_lexer": "ipython3",
   "version": "3.6.6"
  }
 },
 "nbformat": 4,
 "nbformat_minor": 4
}
